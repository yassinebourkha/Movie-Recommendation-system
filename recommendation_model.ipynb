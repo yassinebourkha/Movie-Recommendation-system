{
 "cells": [
  {
   "cell_type": "code",
   "execution_count": 9,
   "id": "883d5748",
   "metadata": {},
   "outputs": [],
   "source": [
    "import pandas as pd\n",
    "from sklearn.feature_extraction.text import CountVectorizer\n",
    "from sklearn.metrics.pairwise import cosine_similarity"
   ]
  },
  {
   "cell_type": "code",
   "execution_count": 10,
   "id": "f56a181d",
   "metadata": {},
   "outputs": [],
   "source": [
    "def create_similarity():\n",
    "    data = pd.read_csv('main_data.csv')\n",
    "    data['comb'].fillna('', inplace=True)  \n",
    "\n",
    "    cv = CountVectorizer()\n",
    "    count_matrix = cv.fit_transform(data['comb'])\n",
    "\n",
    "    similarity = cosine_similarity(count_matrix)\n",
    "    \n",
    "    return data, similarity"
   ]
  },
  {
   "cell_type": "code",
   "execution_count": 11,
   "id": "677198a9",
   "metadata": {},
   "outputs": [],
   "source": [
    "def rcmd(movie):\n",
    "    movie = movie.lower()\n",
    "    try:\n",
    "        data.head()\n",
    "        similarity.shape\n",
    "    except:\n",
    "        data, similarity = create_similarity()\n",
    "    \n",
    "    if movie not in data['movie_title'].unique():\n",
    "        return ['Sorry! The movie you requested is not in our database. Please check the spelling or try with some other movies']\n",
    "    else:\n",
    "        i = data.loc[data['movie_title']==movie].index[0]\n",
    "        lst = list(enumerate(similarity[i]))\n",
    "        lst = sorted(lst, key=lambda x: x[1], reverse=True)\n",
    "        lst = lst[1:11] \n",
    "        recommended_movies = []\n",
    "        for i in range(len(lst)):\n",
    "            a = lst[i][0]\n",
    "            recommended_movies.append(data['movie_title'][a])\n",
    "        return recommended_movies"
   ]
  },
  {
   "cell_type": "code",
   "execution_count": 13,
   "id": "d5f006d8",
   "metadata": {},
   "outputs": [
    {
     "name": "stdout",
     "output_type": "stream",
     "text": [
      "['furious 7', 'fast five', 'the fast and the furious', 'the transporter', 'the fate of the furious', 'unleashed', 'a man apart', 'black and blue', 'transporter 2', 'now you see me']\n"
     ]
    }
   ],
   "source": [
    "print(rcmd('fast x'))"
   ]
  },
  {
   "cell_type": "code",
   "execution_count": null,
   "id": "cdc05737",
   "metadata": {},
   "outputs": [],
   "source": []
  }
 ],
 "metadata": {
  "kernelspec": {
   "display_name": "Python 3 (ipykernel)",
   "language": "python",
   "name": "python3"
  },
  "language_info": {
   "codemirror_mode": {
    "name": "ipython",
    "version": 3
   },
   "file_extension": ".py",
   "mimetype": "text/x-python",
   "name": "python",
   "nbconvert_exporter": "python",
   "pygments_lexer": "ipython3",
   "version": "3.10.9"
  }
 },
 "nbformat": 4,
 "nbformat_minor": 5
}
